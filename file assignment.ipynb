{
 "cells": [
  {
   "cell_type": "markdown",
   "id": "eb85e990-cf1e-4750-8af1-c5d8d3860dc9",
   "metadata": {},
   "source": [
    "# Files, exceptional handling, logging and memory management Questions"
   ]
  },
  {
   "cell_type": "code",
   "execution_count": 2,
   "id": "c2e6e762-e605-4cbd-9c2c-cff2c697d7d8",
   "metadata": {},
   "outputs": [
    {
     "data": {
      "text/plain": [
       "\" \\n1 What is the difference between interpreted and compiled languages0\\n2 What is exception handling in Python0\\n3 What is the purpose of the finally block in exception handling0\\n4 What is logging in Python0\\n5 What is the significance of the __del__ method in Python0\\n6 What is the difference between import and from ... import in Python0\\n7 How can you handle multiple exceptions in Python0\\n8 What is the purpose of the with statement when handling files in Python0\\n9 What is the difference between multithreading and multiprocessing0\\n10 What are the advantages of using logging in a program0\\n11 What is memory management in Python0\\n12 What are the basic steps involved in exception handling in Python0\\n13 Why is memory management important in Python0\\n14 What is the role of try and except in exception handling0\\n15 How does Python's garbage collection system work0\\n16 What is the purpose of the else block in exception handling0\\n17 What are the common logging levels in Python0\\n18 What is the difference between os.fork() and multiprocessing in Python0\\n19 What is the importance of closing a file in Python0\\n20 What is the difference between file.read() and file.readline() in Python0\\n21 What is the logging module in Python used for0\\n22 What is the os module in Python used for in file handling0\\n23 What are the challenges associated with memory management in Python0\\n24  How do you raise an exception manually in Python0\\n25 Why is it important to use multithreading in certain applications?\\n\""
      ]
     },
     "execution_count": 2,
     "metadata": {},
     "output_type": "execute_result"
    }
   ],
   "source": [
    "''' \n",
    "1 What is the difference between interpreted and compiled languages0\n",
    "2 What is exception handling in Python0\n",
    "3 What is the purpose of the finally block in exception handling0\n",
    "4 What is logging in Python0\n",
    "5 What is the significance of the __del__ method in Python0\n",
    "6 What is the difference between import and from ... import in Python0\n",
    "7 How can you handle multiple exceptions in Python0\n",
    "8 What is the purpose of the with statement when handling files in Python0\n",
    "9 What is the difference between multithreading and multiprocessing0\n",
    "10 What are the advantages of using logging in a program0\n",
    "11 What is memory management in Python0\n",
    "12 What are the basic steps involved in exception handling in Python0\n",
    "13 Why is memory management important in Python0\n",
    "14 What is the role of try and except in exception handling0\n",
    "15 How does Python's garbage collection system work0\n",
    "16 What is the purpose of the else block in exception handling0\n",
    "17 What are the common logging levels in Python0\n",
    "18 What is the difference between os.fork() and multiprocessing in Python0\n",
    "19 What is the importance of closing a file in Python0\n",
    "20 What is the difference between file.read() and file.readline() in Python0\n",
    "21 What is the logging module in Python used for0\n",
    "22 What is the os module in Python used for in file handling0\n",
    "23 What are the challenges associated with memory management in Python0\n",
    "24  How do you raise an exception manually in Python0\n",
    "25 Why is it important to use multithreading in certain applications?\n",
    "'''"
   ]
  },
  {
   "cell_type": "markdown",
   "id": "2582328b-ccc6-4cd3-9488-20601d0df0c8",
   "metadata": {},
   "source": [
    "# answer"
   ]
  },
  {
   "cell_type": "code",
   "execution_count": 5,
   "id": "4e121ae0-4db5-4c4b-ad79-076fceb96d64",
   "metadata": {},
   "outputs": [
    {
     "data": {
      "text/plain": [
       "' \\n1. What is the difference between interpreted and compiled languages?\\n\\nCompiled languages (like C, C++): Source code is translated into machine code before execution → faster runtime.\\n\\nInterpreted languages (like Python, JavaScript): Code is executed line by line by an interpreter → slower but more flexible.\\n\\n2. What is exception handling in Python?\\nException handling is a mechanism to handle runtime errors gracefully using try, except, else, and finally blocks.\\n\\n3. What is the purpose of the finally block in exception handling?\\nThe finally block always executes, whether an exception occurs or not → useful for cleanup (e.g., closing files, releasing resources).\\n\\n4. What is logging in Python?\\nLogging records events, errors, or information during program execution, which helps in debugging and monitoring.\\n\\n5. What is the significance of the __del__ method in Python?\\n__del__ is a destructor method called when an object is about to be destroyed (garbage collected). It is used to release resources.\\n\\n6. What is the difference between import and from ... import in Python?\\n\\nimport module → imports the whole module, need to use module.function().\\n\\nfrom module import function → imports only a specific function/class, can use directly.\\n\\n7. How can you handle multiple exceptions in Python?\\nBy using multiple except blocks or a tuple of exceptions:\\n\\ntry:\\n    # code\\nexcept (ValueError, TypeError) as e:\\n    print(e)\\n\\n\\n8. What is the purpose of the with statement when handling files in Python?\\nIt ensures the file is automatically closed after operations, even if an exception occurs.\\n\\n9. What is the difference between multithreading and multiprocessing?\\n\\nMultithreading: Multiple threads within the same process → shares memory → better for I/O tasks.\\n\\nMultiprocessing: Multiple processes with separate memory → better for CPU-bound tasks.\\n\\n10. What are the advantages of using logging in a program?\\n\\nTracks errors and execution flow\\n\\nHelps debugging\\n\\nRecords runtime information\\n\\nSupports different levels of severity\\n\\n11. What is memory management in Python?\\nIt refers to how Python handles allocation and deallocation of memory automatically using garbage collection.\\n\\n12. What are the basic steps involved in exception handling in Python?\\n\\nWrap risky code in try.\\n\\nHandle errors in except.\\n\\n(Optional) Run else if no exception occurs.\\n\\n(Optional) Run finally for cleanup.\\n\\n13. Why is memory management important in Python?\\n\\nPrevents memory leaks\\n\\nImproves performance\\n\\nEnsures efficient use of system resources\\n\\n14. What is the role of try and except in exception handling?\\n\\ntry: Contains code that may raise an exception.\\n\\nexcept: Handles the error and prevents program crash.\\n\\n15. How does Python\\'s garbage collection system work?\\nPython uses reference counting + cyclic garbage collector to automatically free unused memory.\\n\\n16. What is the purpose of the else block in exception handling?\\nThe else block runs only if no exception occurs in the try block.\\n\\n17. What are the common logging levels in Python?\\n\\nDEBUG\\n\\nINFO\\n\\nWARNING\\n\\nERROR\\n\\nCRITICAL\\n\\n18. What is the difference between os.fork() and multiprocessing in Python?\\n\\nos.fork(): Available only on Unix/Linux, directly creates a child process.\\n\\nmultiprocessing: Cross-platform, higher-level API for creating and managing processes.\\n\\n19. What is the importance of closing a file in Python?\\n\\nReleases system resources\\n\\nSaves data properly\\n\\nPrevents file corruption\\n\\n20. What is the difference between file.read() and file.readline() in Python?\\n\\nread(): Reads the whole file or specified number of characters.\\n\\nreadline(): Reads a single line at a time.\\n\\n21. What is the logging module in Python used for?\\nIt is used to record logs, messages, and errors in a structured way (console, file, etc.).\\n\\n22. What is the os module in Python used for in file handling?\\nIt allows interaction with the operating system → e.g., file operations, directory handling (os.remove(), os.rename(), os.path.exists()).\\n\\n23. What are the challenges associated with memory management in Python?\\n\\nCyclic references may delay garbage collection.\\n\\nLarge objects can cause memory leaks if not handled.\\n\\nManual resource management may still be needed.\\n\\n24. How do you raise an exception manually in Python?\\nUsing the raise keyword:\\n\\nraise ValueError(\"Invalid input\")\\n\\n\\n25. Why is it important to use multithreading in certain applications?\\n\\nImproves responsiveness in I/O-bound tasks (web scraping, network calls).\\n\\nRuns tasks concurrently without blocking.\\n\\nEfficient resource usage by sharing memory.\\n\\n'"
      ]
     },
     "execution_count": 5,
     "metadata": {},
     "output_type": "execute_result"
    }
   ],
   "source": [
    "''' \n",
    "1. What is the difference between interpreted and compiled languages?\n",
    "\n",
    "Compiled languages (like C, C++): Source code is translated into machine code before execution → faster runtime.\n",
    "\n",
    "Interpreted languages (like Python, JavaScript): Code is executed line by line by an interpreter → slower but more flexible.\n",
    "\n",
    "2. What is exception handling in Python?\n",
    "Exception handling is a mechanism to handle runtime errors gracefully using try, except, else, and finally blocks.\n",
    "\n",
    "3. What is the purpose of the finally block in exception handling?\n",
    "The finally block always executes, whether an exception occurs or not → useful for cleanup (e.g., closing files, releasing resources).\n",
    "\n",
    "4. What is logging in Python?\n",
    "Logging records events, errors, or information during program execution, which helps in debugging and monitoring.\n",
    "\n",
    "5. What is the significance of the __del__ method in Python?\n",
    "__del__ is a destructor method called when an object is about to be destroyed (garbage collected). It is used to release resources.\n",
    "\n",
    "6. What is the difference between import and from ... import in Python?\n",
    "\n",
    "import module → imports the whole module, need to use module.function().\n",
    "\n",
    "from module import function → imports only a specific function/class, can use directly.\n",
    "\n",
    "7. How can you handle multiple exceptions in Python?\n",
    "By using multiple except blocks or a tuple of exceptions:\n",
    "\n",
    "try:\n",
    "    # code\n",
    "except (ValueError, TypeError) as e:\n",
    "    print(e)\n",
    "\n",
    "\n",
    "8. What is the purpose of the with statement when handling files in Python?\n",
    "It ensures the file is automatically closed after operations, even if an exception occurs.\n",
    "\n",
    "9. What is the difference between multithreading and multiprocessing?\n",
    "\n",
    "Multithreading: Multiple threads within the same process → shares memory → better for I/O tasks.\n",
    "\n",
    "Multiprocessing: Multiple processes with separate memory → better for CPU-bound tasks.\n",
    "\n",
    "10. What are the advantages of using logging in a program?\n",
    "\n",
    "Tracks errors and execution flow\n",
    "\n",
    "Helps debugging\n",
    "\n",
    "Records runtime information\n",
    "\n",
    "Supports different levels of severity\n",
    "\n",
    "11. What is memory management in Python?\n",
    "It refers to how Python handles allocation and deallocation of memory automatically using garbage collection.\n",
    "\n",
    "12. What are the basic steps involved in exception handling in Python?\n",
    "\n",
    "Wrap risky code in try.\n",
    "\n",
    "Handle errors in except.\n",
    "\n",
    "(Optional) Run else if no exception occurs.\n",
    "\n",
    "(Optional) Run finally for cleanup.\n",
    "\n",
    "13. Why is memory management important in Python?\n",
    "\n",
    "Prevents memory leaks\n",
    "\n",
    "Improves performance\n",
    "\n",
    "Ensures efficient use of system resources\n",
    "\n",
    "14. What is the role of try and except in exception handling?\n",
    "\n",
    "try: Contains code that may raise an exception.\n",
    "\n",
    "except: Handles the error and prevents program crash.\n",
    "\n",
    "15. How does Python's garbage collection system work?\n",
    "Python uses reference counting + cyclic garbage collector to automatically free unused memory.\n",
    "\n",
    "16. What is the purpose of the else block in exception handling?\n",
    "The else block runs only if no exception occurs in the try block.\n",
    "\n",
    "17. What are the common logging levels in Python?\n",
    "\n",
    "DEBUG\n",
    "\n",
    "INFO\n",
    "\n",
    "WARNING\n",
    "\n",
    "ERROR\n",
    "\n",
    "CRITICAL\n",
    "\n",
    "18. What is the difference between os.fork() and multiprocessing in Python?\n",
    "\n",
    "os.fork(): Available only on Unix/Linux, directly creates a child process.\n",
    "\n",
    "multiprocessing: Cross-platform, higher-level API for creating and managing processes.\n",
    "\n",
    "19. What is the importance of closing a file in Python?\n",
    "\n",
    "Releases system resources\n",
    "\n",
    "Saves data properly\n",
    "\n",
    "Prevents file corruption\n",
    "\n",
    "20. What is the difference between file.read() and file.readline() in Python?\n",
    "\n",
    "read(): Reads the whole file or specified number of characters.\n",
    "\n",
    "readline(): Reads a single line at a time.\n",
    "\n",
    "21. What is the logging module in Python used for?\n",
    "It is used to record logs, messages, and errors in a structured way (console, file, etc.).\n",
    "\n",
    "22. What is the os module in Python used for in file handling?\n",
    "It allows interaction with the operating system → e.g., file operations, directory handling (os.remove(), os.rename(), os.path.exists()).\n",
    "\n",
    "23. What are the challenges associated with memory management in Python?\n",
    "\n",
    "Cyclic references may delay garbage collection.\n",
    "\n",
    "Large objects can cause memory leaks if not handled.\n",
    "\n",
    "Manual resource management may still be needed.\n",
    "\n",
    "24. How do you raise an exception manually in Python?\n",
    "Using the raise keyword:\n",
    "\n",
    "raise ValueError(\"Invalid input\")\n",
    "\n",
    "\n",
    "25. Why is it important to use multithreading in certain applications?\n",
    "\n",
    "Improves responsiveness in I/O-bound tasks (web scraping, network calls).\n",
    "\n",
    "Runs tasks concurrently without blocking.\n",
    "\n",
    "Efficient resource usage by sharing memory.\n",
    "\n",
    "'''"
   ]
  },
  {
   "cell_type": "markdown",
   "id": "cd1e950e-caea-4eab-b3f7-cedde7b4cd15",
   "metadata": {},
   "source": [
    "# practical question "
   ]
  },
  {
   "cell_type": "code",
   "execution_count": 8,
   "id": "f18ce7f6-51a6-4aae-a1ca-bcb935abe2f2",
   "metadata": {},
   "outputs": [
    {
     "data": {
      "text/plain": [
       "\" \\n1 How can you open a file for writing in Python and write a string to it\\x1f\\n2 Write a Python program to read the contents of a file and print each lineF\\n3 How would you handle a case where the file doesn't exist while trying to open it for reading\\x1f\\n4 Write a Python script that reads from one file and writes its content to another fileF\\n5 How would you catch and handle division by zero error in Python\\x1f\\n6 Write a Python program that logs an error message to a log file when a division by zero exception occursF\\n7 How do you log information at different levels (INFO, ERROR, WARNING) in Python using the logging module\\x1f\\n8 Write a program to handle a file opening error using exception handlingF\\n9 How can you read a file line by line and store its content in a list in Python\\x1f\\n10 How can you append data to an existing file in Python\\n11 Write a Python program that uses a try-except block to handle an error when attempting to access a\\ndictionary key that doesn't existF\\n12 Write a program that demonstrates using multiple except blocks to handle different types of exceptionsF\\n13 How would you check if a file exists before attempting to read it in Python\\x1f\\n14 Write a program that uses the logging module to log both informational and error messagesF\\n15 Write a Python program that prints the content of a file and handles the case when the file is emptyF\\n16 Demonstrate how to use memory profiling to check the memory usage of a small programF\\n17 Write a Python program to create and write a list of numbers to a file, one number per lineF\\n18 How would you implement a basic logging setup that logs to a file with rotation after 1MB\\x1f\\n19 Write a program that handles both IndexError and KeyError using a try-except blockF\\n20 How would you open a file and read its contents using a context manager in Python\\x1f\\n21 Write a Python program that reads a file and prints the number of occurrences of a specific wordF\\n22 How can you check if a file is empty before attempting to read its contents\\x1f\\n23 Write a Python program that writes to a log file when an error occurs during file handling.\\n\\n\""
      ]
     },
     "execution_count": 8,
     "metadata": {},
     "output_type": "execute_result"
    }
   ],
   "source": [
    "''' \n",
    "1 How can you open a file for writing in Python and write a string to it\u001f\n",
    "2 Write a Python program to read the contents of a file and print each lineF\n",
    "3 How would you handle a case where the file doesn't exist while trying to open it for reading\u001f\n",
    "4 Write a Python script that reads from one file and writes its content to another fileF\n",
    "5 How would you catch and handle division by zero error in Python\u001f\n",
    "6 Write a Python program that logs an error message to a log file when a division by zero exception occursF\n",
    "7 How do you log information at different levels (INFO, ERROR, WARNING) in Python using the logging module\u001f\n",
    "8 Write a program to handle a file opening error using exception handlingF\n",
    "9 How can you read a file line by line and store its content in a list in Python\u001f\n",
    "10 How can you append data to an existing file in Python\n",
    "11 Write a Python program that uses a try-except block to handle an error when attempting to access a\n",
    "dictionary key that doesn't existF\n",
    "12 Write a program that demonstrates using multiple except blocks to handle different types of exceptionsF\n",
    "13 How would you check if a file exists before attempting to read it in Python\u001f\n",
    "14 Write a program that uses the logging module to log both informational and error messagesF\n",
    "15 Write a Python program that prints the content of a file and handles the case when the file is emptyF\n",
    "16 Demonstrate how to use memory profiling to check the memory usage of a small programF\n",
    "17 Write a Python program to create and write a list of numbers to a file, one number per lineF\n",
    "18 How would you implement a basic logging setup that logs to a file with rotation after 1MB\u001f\n",
    "19 Write a program that handles both IndexError and KeyError using a try-except blockF\n",
    "20 How would you open a file and read its contents using a context manager in Python\u001f\n",
    "21 Write a Python program that reads a file and prints the number of occurrences of a specific wordF\n",
    "22 How can you check if a file is empty before attempting to read its contents\u001f\n",
    "23 Write a Python program that writes to a log file when an error occurs during file handling.\n",
    "\n",
    "'''"
   ]
  },
  {
   "cell_type": "code",
   "execution_count": 10,
   "id": "b381237d-8a96-46cc-a73f-ee5001d6189c",
   "metadata": {},
   "outputs": [],
   "source": [
    "# 1\n",
    "\n",
    "with open(\"output.txt\", \"w\") as f:\n",
    "    f.write(\"Hello, Python File Handling!\")\n"
   ]
  },
  {
   "cell_type": "code",
   "execution_count": 12,
   "id": "9d353deb-d60e-414c-a46a-9242132ea4b2",
   "metadata": {},
   "outputs": [
    {
     "ename": "FileNotFoundError",
     "evalue": "[Errno 2] No such file or directory: 'sample.txt'",
     "output_type": "error",
     "traceback": [
      "\u001b[1;31m---------------------------------------------------------------------------\u001b[0m",
      "\u001b[1;31mFileNotFoundError\u001b[0m                         Traceback (most recent call last)",
      "Cell \u001b[1;32mIn[12], line 2\u001b[0m\n\u001b[0;32m      1\u001b[0m \u001b[38;5;66;03m#2\u001b[39;00m\n\u001b[1;32m----> 2\u001b[0m \u001b[38;5;28;01mwith\u001b[39;00m \u001b[38;5;28mopen\u001b[39m(\u001b[38;5;124m\"\u001b[39m\u001b[38;5;124msample.txt\u001b[39m\u001b[38;5;124m\"\u001b[39m, \u001b[38;5;124m\"\u001b[39m\u001b[38;5;124mr\u001b[39m\u001b[38;5;124m\"\u001b[39m) \u001b[38;5;28;01mas\u001b[39;00m f:\n\u001b[0;32m      3\u001b[0m     \u001b[38;5;28;01mfor\u001b[39;00m line \u001b[38;5;129;01min\u001b[39;00m f:\n\u001b[0;32m      4\u001b[0m         \u001b[38;5;28mprint\u001b[39m(line\u001b[38;5;241m.\u001b[39mstrip())\n",
      "File \u001b[1;32m~\\anaconda3\\Lib\\site-packages\\IPython\\core\\interactiveshell.py:324\u001b[0m, in \u001b[0;36m_modified_open\u001b[1;34m(file, *args, **kwargs)\u001b[0m\n\u001b[0;32m    317\u001b[0m \u001b[38;5;28;01mif\u001b[39;00m file \u001b[38;5;129;01min\u001b[39;00m {\u001b[38;5;241m0\u001b[39m, \u001b[38;5;241m1\u001b[39m, \u001b[38;5;241m2\u001b[39m}:\n\u001b[0;32m    318\u001b[0m     \u001b[38;5;28;01mraise\u001b[39;00m \u001b[38;5;167;01mValueError\u001b[39;00m(\n\u001b[0;32m    319\u001b[0m         \u001b[38;5;124mf\u001b[39m\u001b[38;5;124m\"\u001b[39m\u001b[38;5;124mIPython won\u001b[39m\u001b[38;5;124m'\u001b[39m\u001b[38;5;124mt let you open fd=\u001b[39m\u001b[38;5;132;01m{\u001b[39;00mfile\u001b[38;5;132;01m}\u001b[39;00m\u001b[38;5;124m by default \u001b[39m\u001b[38;5;124m\"\u001b[39m\n\u001b[0;32m    320\u001b[0m         \u001b[38;5;124m\"\u001b[39m\u001b[38;5;124mas it is likely to crash IPython. If you know what you are doing, \u001b[39m\u001b[38;5;124m\"\u001b[39m\n\u001b[0;32m    321\u001b[0m         \u001b[38;5;124m\"\u001b[39m\u001b[38;5;124myou can use builtins\u001b[39m\u001b[38;5;124m'\u001b[39m\u001b[38;5;124m open.\u001b[39m\u001b[38;5;124m\"\u001b[39m\n\u001b[0;32m    322\u001b[0m     )\n\u001b[1;32m--> 324\u001b[0m \u001b[38;5;28;01mreturn\u001b[39;00m io_open(file, \u001b[38;5;241m*\u001b[39margs, \u001b[38;5;241m*\u001b[39m\u001b[38;5;241m*\u001b[39mkwargs)\n",
      "\u001b[1;31mFileNotFoundError\u001b[0m: [Errno 2] No such file or directory: 'sample.txt'"
     ]
    }
   ],
   "source": [
    "#2\n",
    "with open(\"sample.txt\", \"r\") as f:\n",
    "    for line in f:\n",
    "        print(line.strip())\n"
   ]
  },
  {
   "cell_type": "code",
   "execution_count": 14,
   "id": "963b527b-0379-4f3e-9a22-69ed8427422b",
   "metadata": {},
   "outputs": [
    {
     "name": "stdout",
     "output_type": "stream",
     "text": [
      "File not found!\n"
     ]
    }
   ],
   "source": [
    "#3 \n",
    "\n",
    "try:\n",
    "    with open(\"missing.txt\", \"r\") as f:\n",
    "        print(f.read())\n",
    "except FileNotFoundError:\n",
    "    print(\"File not found!\")\n"
   ]
  },
  {
   "cell_type": "code",
   "execution_count": 18,
   "id": "e1393b6c-fe82-4bda-a55d-e28392171c83",
   "metadata": {},
   "outputs": [
    {
     "ename": "FileNotFoundError",
     "evalue": "[Errno 2] No such file or directory: 'source.txt'",
     "output_type": "error",
     "traceback": [
      "\u001b[1;31m---------------------------------------------------------------------------\u001b[0m",
      "\u001b[1;31mFileNotFoundError\u001b[0m                         Traceback (most recent call last)",
      "Cell \u001b[1;32mIn[18], line 3\u001b[0m\n\u001b[0;32m      1\u001b[0m \u001b[38;5;66;03m#4 \u001b[39;00m\n\u001b[1;32m----> 3\u001b[0m \u001b[38;5;28;01mwith\u001b[39;00m \u001b[38;5;28mopen\u001b[39m(\u001b[38;5;124m\"\u001b[39m\u001b[38;5;124msource.txt\u001b[39m\u001b[38;5;124m\"\u001b[39m, \u001b[38;5;124m\"\u001b[39m\u001b[38;5;124mr\u001b[39m\u001b[38;5;124m\"\u001b[39m) \u001b[38;5;28;01mas\u001b[39;00m src, \u001b[38;5;28mopen\u001b[39m(\u001b[38;5;124m\"\u001b[39m\u001b[38;5;124mdestination.txt\u001b[39m\u001b[38;5;124m\"\u001b[39m, \u001b[38;5;124m\"\u001b[39m\u001b[38;5;124mw\u001b[39m\u001b[38;5;124m\"\u001b[39m) \u001b[38;5;28;01mas\u001b[39;00m dest:\n\u001b[0;32m      4\u001b[0m     dest\u001b[38;5;241m.\u001b[39mwrite(src\u001b[38;5;241m.\u001b[39mread())\n",
      "File \u001b[1;32m~\\anaconda3\\Lib\\site-packages\\IPython\\core\\interactiveshell.py:324\u001b[0m, in \u001b[0;36m_modified_open\u001b[1;34m(file, *args, **kwargs)\u001b[0m\n\u001b[0;32m    317\u001b[0m \u001b[38;5;28;01mif\u001b[39;00m file \u001b[38;5;129;01min\u001b[39;00m {\u001b[38;5;241m0\u001b[39m, \u001b[38;5;241m1\u001b[39m, \u001b[38;5;241m2\u001b[39m}:\n\u001b[0;32m    318\u001b[0m     \u001b[38;5;28;01mraise\u001b[39;00m \u001b[38;5;167;01mValueError\u001b[39;00m(\n\u001b[0;32m    319\u001b[0m         \u001b[38;5;124mf\u001b[39m\u001b[38;5;124m\"\u001b[39m\u001b[38;5;124mIPython won\u001b[39m\u001b[38;5;124m'\u001b[39m\u001b[38;5;124mt let you open fd=\u001b[39m\u001b[38;5;132;01m{\u001b[39;00mfile\u001b[38;5;132;01m}\u001b[39;00m\u001b[38;5;124m by default \u001b[39m\u001b[38;5;124m\"\u001b[39m\n\u001b[0;32m    320\u001b[0m         \u001b[38;5;124m\"\u001b[39m\u001b[38;5;124mas it is likely to crash IPython. If you know what you are doing, \u001b[39m\u001b[38;5;124m\"\u001b[39m\n\u001b[0;32m    321\u001b[0m         \u001b[38;5;124m\"\u001b[39m\u001b[38;5;124myou can use builtins\u001b[39m\u001b[38;5;124m'\u001b[39m\u001b[38;5;124m open.\u001b[39m\u001b[38;5;124m\"\u001b[39m\n\u001b[0;32m    322\u001b[0m     )\n\u001b[1;32m--> 324\u001b[0m \u001b[38;5;28;01mreturn\u001b[39;00m io_open(file, \u001b[38;5;241m*\u001b[39margs, \u001b[38;5;241m*\u001b[39m\u001b[38;5;241m*\u001b[39mkwargs)\n",
      "\u001b[1;31mFileNotFoundError\u001b[0m: [Errno 2] No such file or directory: 'source.txt'"
     ]
    }
   ],
   "source": [
    "#4 \n",
    "\n",
    "with open(\"source.txt\", \"r\") as src, open(\"destination.txt\", \"w\") as dest:\n",
    "    dest.write(src.read())\n"
   ]
  },
  {
   "cell_type": "code",
   "execution_count": 20,
   "id": "88adaa3d-da87-418a-90ba-b35142518907",
   "metadata": {},
   "outputs": [
    {
     "name": "stdout",
     "output_type": "stream",
     "text": [
      "Cannot divide by zero!\n"
     ]
    }
   ],
   "source": [
    "#5\n",
    "\n",
    "try:\n",
    "    result = 10 / 0\n",
    "except ZeroDivisionError:\n",
    "    print(\"Cannot divide by zero!\")\n"
   ]
  },
  {
   "cell_type": "code",
   "execution_count": 22,
   "id": "54100b81-d708-4507-9161-01039a9832d8",
   "metadata": {},
   "outputs": [],
   "source": [
    "#6\n",
    "\n",
    "import logging\n",
    "\n",
    "logging.basicConfig(filename=\"errors.log\", level=logging.ERROR)\n",
    "\n",
    "try:\n",
    "    result = 10 / 0\n",
    "except ZeroDivisionError:\n",
    "    logging.error(\"Division by zero error occurred\")\n"
   ]
  },
  {
   "cell_type": "code",
   "execution_count": 24,
   "id": "d0a31558-8189-4478-a68a-fbae3d43ef21",
   "metadata": {},
   "outputs": [],
   "source": [
    "#7 \n",
    "\n",
    "import logging\n",
    "\n",
    "logging.basicConfig(level=logging.DEBUG)\n",
    "\n",
    "logging.info(\"This is an info message\")\n",
    "logging.warning(\"This is a warning message\")\n",
    "logging.error(\"This is an error message\")\n"
   ]
  },
  {
   "cell_type": "code",
   "execution_count": 26,
   "id": "c85d3aa7-55e1-429a-a232-3cecea3cde93",
   "metadata": {},
   "outputs": [
    {
     "name": "stdout",
     "output_type": "stream",
     "text": [
      "Error: File not found!\n"
     ]
    }
   ],
   "source": [
    "#8 \n",
    "\n",
    "try:\n",
    "    with open(\"nonexistent.txt\", \"r\") as f:\n",
    "        print(f.read())\n",
    "except FileNotFoundError:\n",
    "    print(\"Error: File not found!\")\n"
   ]
  },
  {
   "cell_type": "code",
   "execution_count": 28,
   "id": "d17c14ff-9ea0-458b-a545-3968b774233e",
   "metadata": {},
   "outputs": [
    {
     "ename": "FileNotFoundError",
     "evalue": "[Errno 2] No such file or directory: 'data.txt'",
     "output_type": "error",
     "traceback": [
      "\u001b[1;31m---------------------------------------------------------------------------\u001b[0m",
      "\u001b[1;31mFileNotFoundError\u001b[0m                         Traceback (most recent call last)",
      "Cell \u001b[1;32mIn[28], line 2\u001b[0m\n\u001b[0;32m      1\u001b[0m \u001b[38;5;66;03m#9 \u001b[39;00m\n\u001b[1;32m----> 2\u001b[0m \u001b[38;5;28;01mwith\u001b[39;00m \u001b[38;5;28mopen\u001b[39m(\u001b[38;5;124m\"\u001b[39m\u001b[38;5;124mdata.txt\u001b[39m\u001b[38;5;124m\"\u001b[39m, \u001b[38;5;124m\"\u001b[39m\u001b[38;5;124mr\u001b[39m\u001b[38;5;124m\"\u001b[39m) \u001b[38;5;28;01mas\u001b[39;00m f:\n\u001b[0;32m      3\u001b[0m     lines \u001b[38;5;241m=\u001b[39m f\u001b[38;5;241m.\u001b[39mreadlines()\n\u001b[0;32m      5\u001b[0m \u001b[38;5;28mprint\u001b[39m(lines)\n",
      "File \u001b[1;32m~\\anaconda3\\Lib\\site-packages\\IPython\\core\\interactiveshell.py:324\u001b[0m, in \u001b[0;36m_modified_open\u001b[1;34m(file, *args, **kwargs)\u001b[0m\n\u001b[0;32m    317\u001b[0m \u001b[38;5;28;01mif\u001b[39;00m file \u001b[38;5;129;01min\u001b[39;00m {\u001b[38;5;241m0\u001b[39m, \u001b[38;5;241m1\u001b[39m, \u001b[38;5;241m2\u001b[39m}:\n\u001b[0;32m    318\u001b[0m     \u001b[38;5;28;01mraise\u001b[39;00m \u001b[38;5;167;01mValueError\u001b[39;00m(\n\u001b[0;32m    319\u001b[0m         \u001b[38;5;124mf\u001b[39m\u001b[38;5;124m\"\u001b[39m\u001b[38;5;124mIPython won\u001b[39m\u001b[38;5;124m'\u001b[39m\u001b[38;5;124mt let you open fd=\u001b[39m\u001b[38;5;132;01m{\u001b[39;00mfile\u001b[38;5;132;01m}\u001b[39;00m\u001b[38;5;124m by default \u001b[39m\u001b[38;5;124m\"\u001b[39m\n\u001b[0;32m    320\u001b[0m         \u001b[38;5;124m\"\u001b[39m\u001b[38;5;124mas it is likely to crash IPython. If you know what you are doing, \u001b[39m\u001b[38;5;124m\"\u001b[39m\n\u001b[0;32m    321\u001b[0m         \u001b[38;5;124m\"\u001b[39m\u001b[38;5;124myou can use builtins\u001b[39m\u001b[38;5;124m'\u001b[39m\u001b[38;5;124m open.\u001b[39m\u001b[38;5;124m\"\u001b[39m\n\u001b[0;32m    322\u001b[0m     )\n\u001b[1;32m--> 324\u001b[0m \u001b[38;5;28;01mreturn\u001b[39;00m io_open(file, \u001b[38;5;241m*\u001b[39margs, \u001b[38;5;241m*\u001b[39m\u001b[38;5;241m*\u001b[39mkwargs)\n",
      "\u001b[1;31mFileNotFoundError\u001b[0m: [Errno 2] No such file or directory: 'data.txt'"
     ]
    }
   ],
   "source": [
    "#9 \n",
    "with open(\"data.txt\", \"r\") as f:\n",
    "    lines = f.readlines()\n",
    "\n",
    "print(lines)\n"
   ]
  },
  {
   "cell_type": "code",
   "execution_count": 32,
   "id": "2715087e-087c-49d2-bc40-e065e7125438",
   "metadata": {},
   "outputs": [],
   "source": [
    "#10 \n",
    "\n",
    "with open(\"data.txt\", \"a\") as f:\n",
    "    f.write(\"\\nNew appended line\")\n"
   ]
  },
  {
   "cell_type": "code",
   "execution_count": 34,
   "id": "f8750244-5508-4bde-83ed-85b70aff862a",
   "metadata": {},
   "outputs": [
    {
     "name": "stdout",
     "output_type": "stream",
     "text": [
      "Key does not exist!\n"
     ]
    }
   ],
   "source": [
    "#11 \n",
    "\n",
    "data = {\"name\": \"Alice\"}\n",
    "\n",
    "try:\n",
    "    print(data[\"age\"])\n",
    "except KeyError:\n",
    "    print(\"Key does not exist!\")\n"
   ]
  },
  {
   "cell_type": "code",
   "execution_count": 36,
   "id": "f415f805-81e7-4ac2-b8c1-6ee1c2168481",
   "metadata": {},
   "outputs": [
    {
     "name": "stdout",
     "output_type": "stream",
     "text": [
      "Invalid number format!\n"
     ]
    }
   ],
   "source": [
    "#12 \n",
    "try:\n",
    "    num = int(\"abc\")   # ValueError\n",
    "    print([1,2,3][5])  # IndexError\n",
    "except ValueError:\n",
    "    print(\"Invalid number format!\")\n",
    "except IndexError:\n",
    "    print(\"List index out of range!\")\n"
   ]
  },
  {
   "cell_type": "code",
   "execution_count": 38,
   "id": "3977a0d1-e799-49e2-97ed-995d22a1fd24",
   "metadata": {},
   "outputs": [
    {
     "name": "stdout",
     "output_type": "stream",
     "text": [
      "\n",
      "New appended line\n"
     ]
    }
   ],
   "source": [
    "#13 \n",
    "\n",
    "import os\n",
    "\n",
    "if os.path.exists(\"data.txt\"):\n",
    "    with open(\"data.txt\", \"r\") as f:\n",
    "        print(f.read())\n",
    "else:\n",
    "    print(\"File does not exist.\")\n"
   ]
  },
  {
   "cell_type": "code",
   "execution_count": 40,
   "id": "4cdc697a-c95d-4b6d-8150-fb4f6f5526e1",
   "metadata": {},
   "outputs": [],
   "source": [
    "#14 \n",
    "\n",
    "import logging\n",
    "\n",
    "logging.basicConfig(filename=\"app.log\", level=logging.INFO)\n",
    "\n",
    "logging.info(\"Program started\")\n",
    "try:\n",
    "    result = 10 / 0\n",
    "except ZeroDivisionError:\n",
    "    logging.error(\"Division by zero error occurred\")\n"
   ]
  },
  {
   "cell_type": "code",
   "execution_count": 42,
   "id": "4fb7648b-dff6-4548-9a88-193e3d0bd1cb",
   "metadata": {},
   "outputs": [
    {
     "ename": "FileNotFoundError",
     "evalue": "[Errno 2] No such file or directory: 'sample.txt'",
     "output_type": "error",
     "traceback": [
      "\u001b[1;31m---------------------------------------------------------------------------\u001b[0m",
      "\u001b[1;31mFileNotFoundError\u001b[0m                         Traceback (most recent call last)",
      "Cell \u001b[1;32mIn[42], line 3\u001b[0m\n\u001b[0;32m      1\u001b[0m \u001b[38;5;66;03m#15 \u001b[39;00m\n\u001b[1;32m----> 3\u001b[0m \u001b[38;5;28;01mwith\u001b[39;00m \u001b[38;5;28mopen\u001b[39m(\u001b[38;5;124m\"\u001b[39m\u001b[38;5;124msample.txt\u001b[39m\u001b[38;5;124m\"\u001b[39m, \u001b[38;5;124m\"\u001b[39m\u001b[38;5;124mr\u001b[39m\u001b[38;5;124m\"\u001b[39m) \u001b[38;5;28;01mas\u001b[39;00m f:\n\u001b[0;32m      4\u001b[0m     content \u001b[38;5;241m=\u001b[39m f\u001b[38;5;241m.\u001b[39mread()\n\u001b[0;32m      5\u001b[0m     \u001b[38;5;28;01mif\u001b[39;00m content\u001b[38;5;241m.\u001b[39mstrip() \u001b[38;5;241m==\u001b[39m \u001b[38;5;124m\"\u001b[39m\u001b[38;5;124m\"\u001b[39m:\n",
      "File \u001b[1;32m~\\anaconda3\\Lib\\site-packages\\IPython\\core\\interactiveshell.py:324\u001b[0m, in \u001b[0;36m_modified_open\u001b[1;34m(file, *args, **kwargs)\u001b[0m\n\u001b[0;32m    317\u001b[0m \u001b[38;5;28;01mif\u001b[39;00m file \u001b[38;5;129;01min\u001b[39;00m {\u001b[38;5;241m0\u001b[39m, \u001b[38;5;241m1\u001b[39m, \u001b[38;5;241m2\u001b[39m}:\n\u001b[0;32m    318\u001b[0m     \u001b[38;5;28;01mraise\u001b[39;00m \u001b[38;5;167;01mValueError\u001b[39;00m(\n\u001b[0;32m    319\u001b[0m         \u001b[38;5;124mf\u001b[39m\u001b[38;5;124m\"\u001b[39m\u001b[38;5;124mIPython won\u001b[39m\u001b[38;5;124m'\u001b[39m\u001b[38;5;124mt let you open fd=\u001b[39m\u001b[38;5;132;01m{\u001b[39;00mfile\u001b[38;5;132;01m}\u001b[39;00m\u001b[38;5;124m by default \u001b[39m\u001b[38;5;124m\"\u001b[39m\n\u001b[0;32m    320\u001b[0m         \u001b[38;5;124m\"\u001b[39m\u001b[38;5;124mas it is likely to crash IPython. If you know what you are doing, \u001b[39m\u001b[38;5;124m\"\u001b[39m\n\u001b[0;32m    321\u001b[0m         \u001b[38;5;124m\"\u001b[39m\u001b[38;5;124myou can use builtins\u001b[39m\u001b[38;5;124m'\u001b[39m\u001b[38;5;124m open.\u001b[39m\u001b[38;5;124m\"\u001b[39m\n\u001b[0;32m    322\u001b[0m     )\n\u001b[1;32m--> 324\u001b[0m \u001b[38;5;28;01mreturn\u001b[39;00m io_open(file, \u001b[38;5;241m*\u001b[39margs, \u001b[38;5;241m*\u001b[39m\u001b[38;5;241m*\u001b[39mkwargs)\n",
      "\u001b[1;31mFileNotFoundError\u001b[0m: [Errno 2] No such file or directory: 'sample.txt'"
     ]
    }
   ],
   "source": [
    "#15 \n",
    "\n",
    "with open(\"sample.txt\", \"r\") as f:\n",
    "    content = f.read()\n",
    "    if content.strip() == \"\":\n",
    "        print(\"File is empty\")\n",
    "    else:\n",
    "        print(content)\n"
   ]
  },
  {
   "cell_type": "code",
   "execution_count": 44,
   "id": "2f571190-3b23-4dc9-95d5-9762a4d7d071",
   "metadata": {},
   "outputs": [
    {
     "ename": "ModuleNotFoundError",
     "evalue": "No module named 'memory_profiler'",
     "output_type": "error",
     "traceback": [
      "\u001b[1;31m---------------------------------------------------------------------------\u001b[0m",
      "\u001b[1;31mModuleNotFoundError\u001b[0m                       Traceback (most recent call last)",
      "Cell \u001b[1;32mIn[44], line 3\u001b[0m\n\u001b[0;32m      1\u001b[0m \u001b[38;5;66;03m#16 \u001b[39;00m\n\u001b[0;32m      2\u001b[0m \u001b[38;5;66;03m# pip install memory-profiler\u001b[39;00m\n\u001b[1;32m----> 3\u001b[0m \u001b[38;5;28;01mfrom\u001b[39;00m \u001b[38;5;21;01mmemory_profiler\u001b[39;00m \u001b[38;5;28;01mimport\u001b[39;00m profile\n\u001b[0;32m      5\u001b[0m \u001b[38;5;129m@profile\u001b[39m\n\u001b[0;32m      6\u001b[0m \u001b[38;5;28;01mdef\u001b[39;00m \u001b[38;5;21mmy_func\u001b[39m():\n\u001b[0;32m      7\u001b[0m     data \u001b[38;5;241m=\u001b[39m [i \u001b[38;5;28;01mfor\u001b[39;00m i \u001b[38;5;129;01min\u001b[39;00m \u001b[38;5;28mrange\u001b[39m(\u001b[38;5;241m10000\u001b[39m)]\n",
      "\u001b[1;31mModuleNotFoundError\u001b[0m: No module named 'memory_profiler'"
     ]
    }
   ],
   "source": [
    "#16 \n",
    "# pip install memory-profiler\n",
    "from memory_profiler import profile\n",
    "\n",
    "@profile\n",
    "def my_func():\n",
    "    data = [i for i in range(10000)]\n",
    "    return data\n",
    "\n",
    "my_func()\n"
   ]
  },
  {
   "cell_type": "code",
   "execution_count": 46,
   "id": "db67a253-ae01-4dcb-8ce1-5ea0f35068fa",
   "metadata": {},
   "outputs": [],
   "source": [
    "#17 \n",
    "\n",
    "numbers = [1, 2, 3, 4, 5]\n",
    "\n",
    "with open(\"numbers.txt\", \"w\") as f:\n",
    "    for num in numbers:\n",
    "        f.write(str(num) + \"\\n\")\n"
   ]
  },
  {
   "cell_type": "code",
   "execution_count": 48,
   "id": "bf14f8e5-90dd-413e-b592-c1f56ed1d28d",
   "metadata": {},
   "outputs": [],
   "source": [
    "#18 \n",
    "\n",
    "import logging\n",
    "from logging.handlers import RotatingFileHandler\n",
    "\n",
    "handler = RotatingFileHandler(\"rotating.log\", maxBytes=1_000_000, backupCount=3)\n",
    "logging.basicConfig(handlers=[handler], level=logging.INFO)\n",
    "\n",
    "logging.info(\"This log will rotate after 1MB\")\n"
   ]
  },
  {
   "cell_type": "code",
   "execution_count": 50,
   "id": "94ace24d-efaf-4009-862f-b994086af76e",
   "metadata": {},
   "outputs": [
    {
     "name": "stdout",
     "output_type": "stream",
     "text": [
      "Index out of range!\n"
     ]
    }
   ],
   "source": [
    "#19 \n",
    "try:\n",
    "    mylist = [1, 2, 3]\n",
    "    print(mylist[5])   # IndexError\n",
    "    mydict = {\"a\": 1}\n",
    "    print(mydict[\"b\"]) # KeyError\n",
    "except IndexError:\n",
    "    print(\"Index out of range!\")\n",
    "except KeyError:\n",
    "    print(\"Key not found!\")\n"
   ]
  },
  {
   "cell_type": "code",
   "execution_count": 52,
   "id": "979ee82a-0e8c-408c-bc1f-001a249b95dd",
   "metadata": {},
   "outputs": [
    {
     "name": "stdout",
     "output_type": "stream",
     "text": [
      "\n",
      "New appended line\n"
     ]
    }
   ],
   "source": [
    "#20abs\n",
    "\n",
    "with open(\"data.txt\", \"r\") as f:\n",
    "    print(f.read())\n"
   ]
  },
  {
   "cell_type": "code",
   "execution_count": 54,
   "id": "74c04064-4e1f-4d87-be1f-a51a9b68fe2c",
   "metadata": {},
   "outputs": [
    {
     "ename": "FileNotFoundError",
     "evalue": "[Errno 2] No such file or directory: 'sample.txt'",
     "output_type": "error",
     "traceback": [
      "\u001b[1;31m---------------------------------------------------------------------------\u001b[0m",
      "\u001b[1;31mFileNotFoundError\u001b[0m                         Traceback (most recent call last)",
      "Cell \u001b[1;32mIn[54], line 6\u001b[0m\n\u001b[0;32m      3\u001b[0m word \u001b[38;5;241m=\u001b[39m \u001b[38;5;124m\"\u001b[39m\u001b[38;5;124mPython\u001b[39m\u001b[38;5;124m\"\u001b[39m\n\u001b[0;32m      4\u001b[0m count \u001b[38;5;241m=\u001b[39m \u001b[38;5;241m0\u001b[39m\n\u001b[1;32m----> 6\u001b[0m \u001b[38;5;28;01mwith\u001b[39;00m \u001b[38;5;28mopen\u001b[39m(\u001b[38;5;124m\"\u001b[39m\u001b[38;5;124msample.txt\u001b[39m\u001b[38;5;124m\"\u001b[39m, \u001b[38;5;124m\"\u001b[39m\u001b[38;5;124mr\u001b[39m\u001b[38;5;124m\"\u001b[39m) \u001b[38;5;28;01mas\u001b[39;00m f:\n\u001b[0;32m      7\u001b[0m     \u001b[38;5;28;01mfor\u001b[39;00m line \u001b[38;5;129;01min\u001b[39;00m f:\n\u001b[0;32m      8\u001b[0m         count \u001b[38;5;241m+\u001b[39m\u001b[38;5;241m=\u001b[39m line\u001b[38;5;241m.\u001b[39msplit()\u001b[38;5;241m.\u001b[39mcount(word)\n",
      "File \u001b[1;32m~\\anaconda3\\Lib\\site-packages\\IPython\\core\\interactiveshell.py:324\u001b[0m, in \u001b[0;36m_modified_open\u001b[1;34m(file, *args, **kwargs)\u001b[0m\n\u001b[0;32m    317\u001b[0m \u001b[38;5;28;01mif\u001b[39;00m file \u001b[38;5;129;01min\u001b[39;00m {\u001b[38;5;241m0\u001b[39m, \u001b[38;5;241m1\u001b[39m, \u001b[38;5;241m2\u001b[39m}:\n\u001b[0;32m    318\u001b[0m     \u001b[38;5;28;01mraise\u001b[39;00m \u001b[38;5;167;01mValueError\u001b[39;00m(\n\u001b[0;32m    319\u001b[0m         \u001b[38;5;124mf\u001b[39m\u001b[38;5;124m\"\u001b[39m\u001b[38;5;124mIPython won\u001b[39m\u001b[38;5;124m'\u001b[39m\u001b[38;5;124mt let you open fd=\u001b[39m\u001b[38;5;132;01m{\u001b[39;00mfile\u001b[38;5;132;01m}\u001b[39;00m\u001b[38;5;124m by default \u001b[39m\u001b[38;5;124m\"\u001b[39m\n\u001b[0;32m    320\u001b[0m         \u001b[38;5;124m\"\u001b[39m\u001b[38;5;124mas it is likely to crash IPython. If you know what you are doing, \u001b[39m\u001b[38;5;124m\"\u001b[39m\n\u001b[0;32m    321\u001b[0m         \u001b[38;5;124m\"\u001b[39m\u001b[38;5;124myou can use builtins\u001b[39m\u001b[38;5;124m'\u001b[39m\u001b[38;5;124m open.\u001b[39m\u001b[38;5;124m\"\u001b[39m\n\u001b[0;32m    322\u001b[0m     )\n\u001b[1;32m--> 324\u001b[0m \u001b[38;5;28;01mreturn\u001b[39;00m io_open(file, \u001b[38;5;241m*\u001b[39margs, \u001b[38;5;241m*\u001b[39m\u001b[38;5;241m*\u001b[39mkwargs)\n",
      "\u001b[1;31mFileNotFoundError\u001b[0m: [Errno 2] No such file or directory: 'sample.txt'"
     ]
    }
   ],
   "source": [
    "#21 \n",
    "\n",
    "word = \"Python\"\n",
    "count = 0\n",
    "\n",
    "with open(\"sample.txt\", \"r\") as f:\n",
    "    for line in f:\n",
    "        count += line.split().count(word)\n",
    "\n",
    "print(f\"'{word}' occurs {count} times\")\n"
   ]
  },
  {
   "cell_type": "code",
   "execution_count": 56,
   "id": "466ae89e-b719-41f7-b1f9-c0ff2610c911",
   "metadata": {},
   "outputs": [],
   "source": [
    "#22 \n",
    "\n",
    "import logging\n",
    "\n",
    "logging.basicConfig(filename=\"file_errors.log\", level=logging.ERROR)\n",
    "\n",
    "try:\n",
    "    with open(\"missing.txt\", \"r\") as f:\n",
    "        print(f.read())\n",
    "except FileNotFoundError as e:\n",
    "    logging.error(f\"File error: {e}\")\n"
   ]
  },
  {
   "cell_type": "code",
   "execution_count": null,
   "id": "ede88f57-44a5-456e-86e4-3c0ce99c8442",
   "metadata": {},
   "outputs": [],
   "source": []
  }
 ],
 "metadata": {
  "kernelspec": {
   "display_name": "Python [conda env:base] *",
   "language": "python",
   "name": "conda-base-py"
  },
  "language_info": {
   "codemirror_mode": {
    "name": "ipython",
    "version": 3
   },
   "file_extension": ".py",
   "mimetype": "text/x-python",
   "name": "python",
   "nbconvert_exporter": "python",
   "pygments_lexer": "ipython3",
   "version": "3.12.7"
  }
 },
 "nbformat": 4,
 "nbformat_minor": 5
}
